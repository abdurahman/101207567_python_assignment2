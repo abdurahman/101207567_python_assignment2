{
  "nbformat": 4,
  "nbformat_minor": 0,
  "metadata": {
    "colab": {
      "name": "101207567 Assignment 2.ipynb",
      "provenance": [],
      "collapsed_sections": [
        "KmtO28C51lXS"
      ],
      "toc_visible": true
    },
    "kernelspec": {
      "name": "python3",
      "display_name": "Python 3"
    }
  },
  "cells": [
    {
      "cell_type": "markdown",
      "metadata": {
        "id": "GdRF-CSJq5Yx"
      },
      "source": [
        "# Assignment 01\r\n",
        "\r\n",
        "Dear Team Members,\r\n",
        "\r\n",
        "I hope you are doing GREAT!\r\n",
        "\r\n",
        "The following assignment is a step-by-step process to implement a multiclass classification using Iris classical dataset.\r\n",
        "The idea of the current assignment is to intensify what we have learned in deep learning.\r\n",
        "\r\n",
        "There are some new concepts and challenges that we will face in the current assignment, and we need to resolve each issue and move to the next step.\r\n",
        "\r\n",
        "In week 08 (lecture session), we will discuss part of the potential challenges. The assignment is easy to follow yet needs the patience to solve each question at a time.\r\n",
        "\r\n",
        "**Note:**\r\n",
        "\r\n",
        "Please note that every question has 0.5 and it provides five out of total ten marks for the assignment.\r\n",
        "\r\n",
        "The video presentation, as you have done for Assignment 01, provides the rest of the mark, which is 5.\r\n",
        "\r\n",
        "In short, 5 for coding + 5 for the video presentation = 10.\r\n"
      ]
    },
    {
      "cell_type": "code",
      "metadata": {
        "id": "NpsNfbeiqtC-"
      },
      "source": [
        "#00 The iris.csv file (Iris dataset) is located in the Assignment folder below the current ipynb file."
      ],
      "execution_count": null,
      "outputs": []
    },
    {
      "cell_type": "markdown",
      "metadata": {
        "id": "YjARgMOGP5W7"
      },
      "source": [
        " **Important Note:** We are NOT allowed to import the dataset from Keras. We need to upload the provided iris.csv file to colab from our Google Drive."
      ]
    },
    {
      "cell_type": "code",
      "metadata": {
        "id": "8cu01QQpGT32"
      },
      "source": [
        "#00 1st, upload the iris.csv into your Google Drive (your Colab folder)."
      ],
      "execution_count": null,
      "outputs": []
    },
    {
      "cell_type": "code",
      "metadata": {
        "colab": {
          "base_uri": "https://localhost:8080/"
        },
        "id": "VTwMyzxru18M",
        "outputId": "1f0a89ba-c32a-4467-c6c3-3a3b0032bbdf"
      },
      "source": [
        "from google.colab import drive\n",
        "drive.mount('/content/drive')"
      ],
      "execution_count": null,
      "outputs": [
        {
          "output_type": "stream",
          "text": [
            "Drive already mounted at /content/drive; to attempt to forcibly remount, call drive.mount(\"/content/drive\", force_remount=True).\n"
          ],
          "name": "stdout"
        }
      ]
    },
    {
      "cell_type": "code",
      "metadata": {
        "id": "-PrhESFFHEQc"
      },
      "source": [
        "#01-a Find the path of iris.csv file, and save it in a variable called fileName."
      ],
      "execution_count": null,
      "outputs": []
    },
    {
      "cell_type": "code",
      "metadata": {
        "id": "5-1y84ZDG2PU"
      },
      "source": [
        "fileName=\"/content/drive/MyDrive/iris.csv\""
      ],
      "execution_count": null,
      "outputs": []
    },
    {
      "cell_type": "code",
      "metadata": {
        "id": "EpPebb_uHCcU"
      },
      "source": [
        "#01-b Read the content of the iris.csv file and save it in a variable, named iris."
      ],
      "execution_count": null,
      "outputs": []
    },
    {
      "cell_type": "code",
      "metadata": {
        "id": "o-Wps1uaHt4H"
      },
      "source": [
        "import pandas as pd"
      ],
      "execution_count": null,
      "outputs": []
    },
    {
      "cell_type": "code",
      "metadata": {
        "id": "Z0cqURBWHowB"
      },
      "source": [
        "iris = pd.read_csv(fileName)"
      ],
      "execution_count": null,
      "outputs": []
    },
    {
      "cell_type": "code",
      "metadata": {
        "id": "4REixnacH0NT"
      },
      "source": [
        "#01-c Show the first 5 rows of the dataframe."
      ],
      "execution_count": null,
      "outputs": []
    },
    {
      "cell_type": "code",
      "metadata": {
        "id": "M5oKPwinH_WM",
        "colab": {
          "base_uri": "https://localhost:8080/",
          "height": 206
        },
        "outputId": "2fd0e01a-b524-474b-c047-fcebfe7d5b86"
      },
      "source": [
        "iris.head()"
      ],
      "execution_count": null,
      "outputs": [
        {
          "output_type": "execute_result",
          "data": {
            "text/html": [
              "<div>\n",
              "<style scoped>\n",
              "    .dataframe tbody tr th:only-of-type {\n",
              "        vertical-align: middle;\n",
              "    }\n",
              "\n",
              "    .dataframe tbody tr th {\n",
              "        vertical-align: top;\n",
              "    }\n",
              "\n",
              "    .dataframe thead th {\n",
              "        text-align: right;\n",
              "    }\n",
              "</style>\n",
              "<table border=\"1\" class=\"dataframe\">\n",
              "  <thead>\n",
              "    <tr style=\"text-align: right;\">\n",
              "      <th></th>\n",
              "      <th>sepal_length</th>\n",
              "      <th>sepal_width</th>\n",
              "      <th>petal_length</th>\n",
              "      <th>petal_width</th>\n",
              "      <th>species</th>\n",
              "    </tr>\n",
              "  </thead>\n",
              "  <tbody>\n",
              "    <tr>\n",
              "      <th>0</th>\n",
              "      <td>5.1</td>\n",
              "      <td>3.5</td>\n",
              "      <td>1.4</td>\n",
              "      <td>0.2</td>\n",
              "      <td>setosa</td>\n",
              "    </tr>\n",
              "    <tr>\n",
              "      <th>1</th>\n",
              "      <td>4.9</td>\n",
              "      <td>3.0</td>\n",
              "      <td>1.4</td>\n",
              "      <td>0.2</td>\n",
              "      <td>setosa</td>\n",
              "    </tr>\n",
              "    <tr>\n",
              "      <th>2</th>\n",
              "      <td>4.7</td>\n",
              "      <td>3.2</td>\n",
              "      <td>1.3</td>\n",
              "      <td>0.2</td>\n",
              "      <td>setosa</td>\n",
              "    </tr>\n",
              "    <tr>\n",
              "      <th>3</th>\n",
              "      <td>4.6</td>\n",
              "      <td>3.1</td>\n",
              "      <td>1.5</td>\n",
              "      <td>0.2</td>\n",
              "      <td>setosa</td>\n",
              "    </tr>\n",
              "    <tr>\n",
              "      <th>4</th>\n",
              "      <td>5.0</td>\n",
              "      <td>3.6</td>\n",
              "      <td>1.4</td>\n",
              "      <td>0.2</td>\n",
              "      <td>setosa</td>\n",
              "    </tr>\n",
              "  </tbody>\n",
              "</table>\n",
              "</div>"
            ],
            "text/plain": [
              "   sepal_length  sepal_width  petal_length  petal_width species\n",
              "0           5.1          3.5           1.4          0.2  setosa\n",
              "1           4.9          3.0           1.4          0.2  setosa\n",
              "2           4.7          3.2           1.3          0.2  setosa\n",
              "3           4.6          3.1           1.5          0.2  setosa\n",
              "4           5.0          3.6           1.4          0.2  setosa"
            ]
          },
          "metadata": {
            "tags": []
          },
          "execution_count": 113
        }
      ]
    },
    {
      "cell_type": "markdown",
      "metadata": {
        "id": "uPslwnx5VlhI"
      },
      "source": [
        "As you see, the last column contains strings. We want to convert these strings to integers,  and we can work with them easily in our Neural Network model.\r\n",
        "\r\n",
        "setosa -> 0\r\n",
        "\r\n",
        "versicolor -> 1\r\n",
        "\r\n",
        "virginica -> 2"
      ]
    },
    {
      "cell_type": "code",
      "metadata": {
        "id": "XaQ9lvJlW63F"
      },
      "source": [
        "#2-a Please convert the last column strings to integers, as \r\n",
        "# setosa -> 0\r\n",
        "# versicolor -> 1\r\n",
        "# virginica -> 2"
      ],
      "execution_count": null,
      "outputs": []
    },
    {
      "cell_type": "code",
      "metadata": {
        "id": "Ko7gGrfvXE5K"
      },
      "source": [
        "iris.replace(to_replace=['setosa', 'versicolor', 'virginica'], value=[0, 1, 2], inplace=True)"
      ],
      "execution_count": null,
      "outputs": []
    },
    {
      "cell_type": "code",
      "metadata": {
        "id": "LtRXugkCXVmm"
      },
      "source": [
        "#2-b Now, check the first 5 elements of the iris dataset once again:"
      ],
      "execution_count": null,
      "outputs": []
    },
    {
      "cell_type": "code",
      "metadata": {
        "id": "Vpzx6GfcXWIT",
        "colab": {
          "base_uri": "https://localhost:8080/",
          "height": 206
        },
        "outputId": "78a2a944-4948-4cea-a5ac-3e4c91cc6310"
      },
      "source": [
        "iris.head()"
      ],
      "execution_count": null,
      "outputs": [
        {
          "output_type": "execute_result",
          "data": {
            "text/html": [
              "<div>\n",
              "<style scoped>\n",
              "    .dataframe tbody tr th:only-of-type {\n",
              "        vertical-align: middle;\n",
              "    }\n",
              "\n",
              "    .dataframe tbody tr th {\n",
              "        vertical-align: top;\n",
              "    }\n",
              "\n",
              "    .dataframe thead th {\n",
              "        text-align: right;\n",
              "    }\n",
              "</style>\n",
              "<table border=\"1\" class=\"dataframe\">\n",
              "  <thead>\n",
              "    <tr style=\"text-align: right;\">\n",
              "      <th></th>\n",
              "      <th>sepal_length</th>\n",
              "      <th>sepal_width</th>\n",
              "      <th>petal_length</th>\n",
              "      <th>petal_width</th>\n",
              "      <th>species</th>\n",
              "    </tr>\n",
              "  </thead>\n",
              "  <tbody>\n",
              "    <tr>\n",
              "      <th>0</th>\n",
              "      <td>5.1</td>\n",
              "      <td>3.5</td>\n",
              "      <td>1.4</td>\n",
              "      <td>0.2</td>\n",
              "      <td>0</td>\n",
              "    </tr>\n",
              "    <tr>\n",
              "      <th>1</th>\n",
              "      <td>4.9</td>\n",
              "      <td>3.0</td>\n",
              "      <td>1.4</td>\n",
              "      <td>0.2</td>\n",
              "      <td>0</td>\n",
              "    </tr>\n",
              "    <tr>\n",
              "      <th>2</th>\n",
              "      <td>4.7</td>\n",
              "      <td>3.2</td>\n",
              "      <td>1.3</td>\n",
              "      <td>0.2</td>\n",
              "      <td>0</td>\n",
              "    </tr>\n",
              "    <tr>\n",
              "      <th>3</th>\n",
              "      <td>4.6</td>\n",
              "      <td>3.1</td>\n",
              "      <td>1.5</td>\n",
              "      <td>0.2</td>\n",
              "      <td>0</td>\n",
              "    </tr>\n",
              "    <tr>\n",
              "      <th>4</th>\n",
              "      <td>5.0</td>\n",
              "      <td>3.6</td>\n",
              "      <td>1.4</td>\n",
              "      <td>0.2</td>\n",
              "      <td>0</td>\n",
              "    </tr>\n",
              "  </tbody>\n",
              "</table>\n",
              "</div>"
            ],
            "text/plain": [
              "   sepal_length  sepal_width  petal_length  petal_width  species\n",
              "0           5.1          3.5           1.4          0.2        0\n",
              "1           4.9          3.0           1.4          0.2        0\n",
              "2           4.7          3.2           1.3          0.2        0\n",
              "3           4.6          3.1           1.5          0.2        0\n",
              "4           5.0          3.6           1.4          0.2        0"
            ]
          },
          "metadata": {
            "tags": []
          },
          "execution_count": 117
        }
      ]
    },
    {
      "cell_type": "code",
      "metadata": {
        "id": "QVQ8ZY8DIAmE"
      },
      "source": [
        "#03-a Select the first four columns of the dataframe as the Data and call the data x."
      ],
      "execution_count": null,
      "outputs": []
    },
    {
      "cell_type": "code",
      "metadata": {
        "id": "QJzxWYKBVPMD"
      },
      "source": [
        "x = iris[iris.columns[0:3]]"
      ],
      "execution_count": null,
      "outputs": []
    },
    {
      "cell_type": "code",
      "metadata": {
        "colab": {
          "base_uri": "https://localhost:8080/",
          "height": 206
        },
        "id": "YDSfNHjb2n0j",
        "outputId": "12b69cc6-0227-4973-d39a-b1f396ca5d13"
      },
      "source": [
        "x.head()"
      ],
      "execution_count": null,
      "outputs": [
        {
          "output_type": "execute_result",
          "data": {
            "text/html": [
              "<div>\n",
              "<style scoped>\n",
              "    .dataframe tbody tr th:only-of-type {\n",
              "        vertical-align: middle;\n",
              "    }\n",
              "\n",
              "    .dataframe tbody tr th {\n",
              "        vertical-align: top;\n",
              "    }\n",
              "\n",
              "    .dataframe thead th {\n",
              "        text-align: right;\n",
              "    }\n",
              "</style>\n",
              "<table border=\"1\" class=\"dataframe\">\n",
              "  <thead>\n",
              "    <tr style=\"text-align: right;\">\n",
              "      <th></th>\n",
              "      <th>sepal_length</th>\n",
              "      <th>sepal_width</th>\n",
              "      <th>petal_length</th>\n",
              "    </tr>\n",
              "  </thead>\n",
              "  <tbody>\n",
              "    <tr>\n",
              "      <th>0</th>\n",
              "      <td>5.1</td>\n",
              "      <td>3.5</td>\n",
              "      <td>1.4</td>\n",
              "    </tr>\n",
              "    <tr>\n",
              "      <th>1</th>\n",
              "      <td>4.9</td>\n",
              "      <td>3.0</td>\n",
              "      <td>1.4</td>\n",
              "    </tr>\n",
              "    <tr>\n",
              "      <th>2</th>\n",
              "      <td>4.7</td>\n",
              "      <td>3.2</td>\n",
              "      <td>1.3</td>\n",
              "    </tr>\n",
              "    <tr>\n",
              "      <th>3</th>\n",
              "      <td>4.6</td>\n",
              "      <td>3.1</td>\n",
              "      <td>1.5</td>\n",
              "    </tr>\n",
              "    <tr>\n",
              "      <th>4</th>\n",
              "      <td>5.0</td>\n",
              "      <td>3.6</td>\n",
              "      <td>1.4</td>\n",
              "    </tr>\n",
              "  </tbody>\n",
              "</table>\n",
              "</div>"
            ],
            "text/plain": [
              "   sepal_length  sepal_width  petal_length\n",
              "0           5.1          3.5           1.4\n",
              "1           4.9          3.0           1.4\n",
              "2           4.7          3.2           1.3\n",
              "3           4.6          3.1           1.5\n",
              "4           5.0          3.6           1.4"
            ]
          },
          "metadata": {
            "tags": []
          },
          "execution_count": 120
        }
      ]
    },
    {
      "cell_type": "code",
      "metadata": {
        "id": "ZfFlo9wlVRp_"
      },
      "source": [
        "#03-b Select the last column as the label and call it y."
      ],
      "execution_count": null,
      "outputs": []
    },
    {
      "cell_type": "code",
      "metadata": {
        "id": "f9CqfICuVZHu"
      },
      "source": [
        "y = iris[iris.columns[3]]"
      ],
      "execution_count": null,
      "outputs": []
    },
    {
      "cell_type": "code",
      "metadata": {
        "colab": {
          "base_uri": "https://localhost:8080/"
        },
        "id": "GvBn8A0m2x00",
        "outputId": "ddc4a7ff-6c0a-4d27-ce43-cd3db2a4fa8b"
      },
      "source": [
        "y.head()"
      ],
      "execution_count": null,
      "outputs": [
        {
          "output_type": "execute_result",
          "data": {
            "text/plain": [
              "0    0.2\n",
              "1    0.2\n",
              "2    0.2\n",
              "3    0.2\n",
              "4    0.2\n",
              "Name: petal_width, dtype: float64"
            ]
          },
          "metadata": {
            "tags": []
          },
          "execution_count": 123
        }
      ]
    },
    {
      "cell_type": "code",
      "metadata": {
        "id": "zoNx--BaVa5D"
      },
      "source": [
        "#04 Now, it is the time to split the data (x) and the label (y) into training and testin segments, \r\n",
        "#   and call them parts x_train,x_test,y_train,y_test."
      ],
      "execution_count": null,
      "outputs": []
    },
    {
      "cell_type": "code",
      "metadata": {
        "id": "EVywDl4cYB98"
      },
      "source": [
        "#04-a Please split the data, and label ito training and testing segments, while the size of test data is 20%,\r\n",
        "#     and use randome_state = 123 to make all the answers similar in the whole class."
      ],
      "execution_count": null,
      "outputs": []
    },
    {
      "cell_type": "code",
      "metadata": {
        "id": "FutX0zffZcMC"
      },
      "source": [
        "from sklearn.model_selection import train_test_split"
      ],
      "execution_count": null,
      "outputs": []
    },
    {
      "cell_type": "code",
      "metadata": {
        "id": "XYRLG2c8ZdqQ"
      },
      "source": [
        "x_train, x_test, y_train, y_test = train_test_split(x, y, test_size=0.2, random_state = 123)"
      ],
      "execution_count": null,
      "outputs": []
    },
    {
      "cell_type": "code",
      "metadata": {
        "id": "KaJUAiuTZgoe"
      },
      "source": [
        "#04-b Please, check the first five rows of  x_train,x_test,y_train,y_test."
      ],
      "execution_count": null,
      "outputs": []
    },
    {
      "cell_type": "code",
      "metadata": {
        "id": "Tol7L4eyZyc0",
        "colab": {
          "base_uri": "https://localhost:8080/",
          "height": 206
        },
        "outputId": "5b39aba6-b29f-4b8a-f396-57dd64da8ce8"
      },
      "source": [
        "x_train.head()"
      ],
      "execution_count": null,
      "outputs": [
        {
          "output_type": "execute_result",
          "data": {
            "text/html": [
              "<div>\n",
              "<style scoped>\n",
              "    .dataframe tbody tr th:only-of-type {\n",
              "        vertical-align: middle;\n",
              "    }\n",
              "\n",
              "    .dataframe tbody tr th {\n",
              "        vertical-align: top;\n",
              "    }\n",
              "\n",
              "    .dataframe thead th {\n",
              "        text-align: right;\n",
              "    }\n",
              "</style>\n",
              "<table border=\"1\" class=\"dataframe\">\n",
              "  <thead>\n",
              "    <tr style=\"text-align: right;\">\n",
              "      <th></th>\n",
              "      <th>sepal_length</th>\n",
              "      <th>sepal_width</th>\n",
              "      <th>petal_length</th>\n",
              "    </tr>\n",
              "  </thead>\n",
              "  <tbody>\n",
              "    <tr>\n",
              "      <th>130</th>\n",
              "      <td>7.4</td>\n",
              "      <td>2.8</td>\n",
              "      <td>6.1</td>\n",
              "    </tr>\n",
              "    <tr>\n",
              "      <th>119</th>\n",
              "      <td>6.0</td>\n",
              "      <td>2.2</td>\n",
              "      <td>5.0</td>\n",
              "    </tr>\n",
              "    <tr>\n",
              "      <th>29</th>\n",
              "      <td>4.7</td>\n",
              "      <td>3.2</td>\n",
              "      <td>1.6</td>\n",
              "    </tr>\n",
              "    <tr>\n",
              "      <th>0</th>\n",
              "      <td>5.1</td>\n",
              "      <td>3.5</td>\n",
              "      <td>1.4</td>\n",
              "    </tr>\n",
              "    <tr>\n",
              "      <th>62</th>\n",
              "      <td>6.0</td>\n",
              "      <td>2.2</td>\n",
              "      <td>4.0</td>\n",
              "    </tr>\n",
              "  </tbody>\n",
              "</table>\n",
              "</div>"
            ],
            "text/plain": [
              "     sepal_length  sepal_width  petal_length\n",
              "130           7.4          2.8           6.1\n",
              "119           6.0          2.2           5.0\n",
              "29            4.7          3.2           1.6\n",
              "0             5.1          3.5           1.4\n",
              "62            6.0          2.2           4.0"
            ]
          },
          "metadata": {
            "tags": []
          },
          "execution_count": 129
        }
      ]
    },
    {
      "cell_type": "code",
      "metadata": {
        "id": "avm95SyVZ0K9",
        "colab": {
          "base_uri": "https://localhost:8080/",
          "height": 206
        },
        "outputId": "11232802-6e20-4e8d-ec88-039ad420c711"
      },
      "source": [
        "x_test.head()"
      ],
      "execution_count": null,
      "outputs": [
        {
          "output_type": "execute_result",
          "data": {
            "text/html": [
              "<div>\n",
              "<style scoped>\n",
              "    .dataframe tbody tr th:only-of-type {\n",
              "        vertical-align: middle;\n",
              "    }\n",
              "\n",
              "    .dataframe tbody tr th {\n",
              "        vertical-align: top;\n",
              "    }\n",
              "\n",
              "    .dataframe thead th {\n",
              "        text-align: right;\n",
              "    }\n",
              "</style>\n",
              "<table border=\"1\" class=\"dataframe\">\n",
              "  <thead>\n",
              "    <tr style=\"text-align: right;\">\n",
              "      <th></th>\n",
              "      <th>sepal_length</th>\n",
              "      <th>sepal_width</th>\n",
              "      <th>petal_length</th>\n",
              "    </tr>\n",
              "  </thead>\n",
              "  <tbody>\n",
              "    <tr>\n",
              "      <th>72</th>\n",
              "      <td>6.3</td>\n",
              "      <td>2.5</td>\n",
              "      <td>4.9</td>\n",
              "    </tr>\n",
              "    <tr>\n",
              "      <th>112</th>\n",
              "      <td>6.8</td>\n",
              "      <td>3.0</td>\n",
              "      <td>5.5</td>\n",
              "    </tr>\n",
              "    <tr>\n",
              "      <th>132</th>\n",
              "      <td>6.4</td>\n",
              "      <td>2.8</td>\n",
              "      <td>5.6</td>\n",
              "    </tr>\n",
              "    <tr>\n",
              "      <th>88</th>\n",
              "      <td>5.6</td>\n",
              "      <td>3.0</td>\n",
              "      <td>4.1</td>\n",
              "    </tr>\n",
              "    <tr>\n",
              "      <th>37</th>\n",
              "      <td>4.9</td>\n",
              "      <td>3.1</td>\n",
              "      <td>1.5</td>\n",
              "    </tr>\n",
              "  </tbody>\n",
              "</table>\n",
              "</div>"
            ],
            "text/plain": [
              "     sepal_length  sepal_width  petal_length\n",
              "72            6.3          2.5           4.9\n",
              "112           6.8          3.0           5.5\n",
              "132           6.4          2.8           5.6\n",
              "88            5.6          3.0           4.1\n",
              "37            4.9          3.1           1.5"
            ]
          },
          "metadata": {
            "tags": []
          },
          "execution_count": 130
        }
      ]
    },
    {
      "cell_type": "code",
      "metadata": {
        "id": "zoGgPpQnZ3N0",
        "colab": {
          "base_uri": "https://localhost:8080/"
        },
        "outputId": "71c8d89d-97de-4f50-a2ae-d0e42f7b358c"
      },
      "source": [
        "y_train.head()"
      ],
      "execution_count": null,
      "outputs": [
        {
          "output_type": "execute_result",
          "data": {
            "text/plain": [
              "130    1.9\n",
              "119    1.5\n",
              "29     0.2\n",
              "0      0.2\n",
              "62     1.0\n",
              "Name: petal_width, dtype: float64"
            ]
          },
          "metadata": {
            "tags": []
          },
          "execution_count": 131
        }
      ]
    },
    {
      "cell_type": "code",
      "metadata": {
        "id": "iDabPofuZ5SO",
        "colab": {
          "base_uri": "https://localhost:8080/"
        },
        "outputId": "6cae2bab-f833-4f41-a5da-b2c43878e3a4"
      },
      "source": [
        "y_test.head()"
      ],
      "execution_count": null,
      "outputs": [
        {
          "output_type": "execute_result",
          "data": {
            "text/plain": [
              "72     1.5\n",
              "112    2.1\n",
              "132    2.2\n",
              "88     1.3\n",
              "37     0.1\n",
              "Name: petal_width, dtype: float64"
            ]
          },
          "metadata": {
            "tags": []
          },
          "execution_count": 132
        }
      ]
    },
    {
      "cell_type": "code",
      "metadata": {
        "id": "wUHaE8fJbg8w"
      },
      "source": [
        "#04-c Check the length of the x_train and x_test. If the numbers are 120 & 30, AWESOME! \r\n",
        "#     You are good to continue!"
      ],
      "execution_count": null,
      "outputs": []
    },
    {
      "cell_type": "code",
      "metadata": {
        "id": "k_-kNMocbgsv",
        "colab": {
          "base_uri": "https://localhost:8080/"
        },
        "outputId": "989526be-652d-4039-f732-f298b1f5fce6"
      },
      "source": [
        "len(x_train)"
      ],
      "execution_count": null,
      "outputs": [
        {
          "output_type": "execute_result",
          "data": {
            "text/plain": [
              "120"
            ]
          },
          "metadata": {
            "tags": []
          },
          "execution_count": 134
        }
      ]
    },
    {
      "cell_type": "code",
      "metadata": {
        "id": "GgEi1h-rbgcM",
        "colab": {
          "base_uri": "https://localhost:8080/"
        },
        "outputId": "cdf4cac6-a3c9-4ef5-e3c7-dde99c45cb9e"
      },
      "source": [
        "len(x_test)"
      ],
      "execution_count": null,
      "outputs": [
        {
          "output_type": "execute_result",
          "data": {
            "text/plain": [
              "30"
            ]
          },
          "metadata": {
            "tags": []
          },
          "execution_count": 135
        }
      ]
    },
    {
      "cell_type": "code",
      "metadata": {
        "id": "tEdcdmEWZ6W-"
      },
      "source": [
        "#05-a Please, convert y_train and y_test into categorical, and call them\r\n",
        "#     one_hot_train_labels, and one_hot_test_labels, respectively."
      ],
      "execution_count": null,
      "outputs": []
    },
    {
      "cell_type": "code",
      "metadata": {
        "id": "9Kx3EkirC02q"
      },
      "source": [
        "from keras.utils.np_utils import to_categorical"
      ],
      "execution_count": null,
      "outputs": []
    },
    {
      "cell_type": "code",
      "metadata": {
        "id": "fVJ8Kn4kbXBF"
      },
      "source": [
        "one_hot_train_labels = to_categorical(y_train)"
      ],
      "execution_count": null,
      "outputs": []
    },
    {
      "cell_type": "code",
      "metadata": {
        "id": "fO1mV_uH9sJV"
      },
      "source": [
        "one_hot_test_labels = to_categorical(y_test)"
      ],
      "execution_count": null,
      "outputs": []
    },
    {
      "cell_type": "code",
      "metadata": {
        "id": "QL4-xxR9bZP1"
      },
      "source": [
        "#06-a Please define a sequential model that contains 3 dense layers.\r\n",
        "#     In the first and second layers, use 100 hidden units (neurons) and a 'relu' activation function.\r\n",
        "#     For the last layer, we need to use 3 as the number of output, \r\n",
        "#     and the reason is we have three classes (setosa -> 0, versicolor -> 1, virginica -> 2)\r\n",
        "#     Also, please pick an appropriate activation function for the last layer. \r\n",
        "#     (You already have guessed what could be the best when we have converted the labels to categorical.)"
      ],
      "execution_count": null,
      "outputs": []
    },
    {
      "cell_type": "code",
      "metadata": {
        "id": "6l5Rqmy3uPbu"
      },
      "source": [
        "from keras import models, layers\n",
        "import tensorflow as tf"
      ],
      "execution_count": null,
      "outputs": []
    },
    {
      "cell_type": "code",
      "metadata": {
        "id": "RH-jV0nLBEwr"
      },
      "source": [
        "myIris = models.Sequential()"
      ],
      "execution_count": null,
      "outputs": []
    },
    {
      "cell_type": "code",
      "metadata": {
        "id": "rHNnXZpYBxGY"
      },
      "source": [
        "myIris.add(layers.Dense(100, activation='relu'))"
      ],
      "execution_count": null,
      "outputs": []
    },
    {
      "cell_type": "code",
      "metadata": {
        "id": "OQ0bsoPSDOQL"
      },
      "source": [
        "myIris.add(layers.Dense(100, activation='relu'))"
      ],
      "execution_count": null,
      "outputs": []
    },
    {
      "cell_type": "code",
      "metadata": {
        "id": "k0iFV-JoDZJR"
      },
      "source": [
        "myIris.add(layers.Dense(3, activation='softmax'))"
      ],
      "execution_count": null,
      "outputs": []
    },
    {
      "cell_type": "code",
      "metadata": {
        "id": "GCtYDS08wZY_"
      },
      "source": [
        "#06-b Now, please compile your model using 'rmsprop', an appropriate loss function, and 'accuracy' for your metrics."
      ],
      "execution_count": null,
      "outputs": []
    },
    {
      "cell_type": "code",
      "metadata": {
        "id": "P8xNko36wx2d"
      },
      "source": [
        "myIris.compile(optimizer='rmsprop', loss='categorical_crossentropy', metrics=['accuracy'])"
      ],
      "execution_count": null,
      "outputs": []
    },
    {
      "cell_type": "code",
      "metadata": {
        "id": "RziNJNwWwz2r"
      },
      "source": [
        "#07-a Pleease fit your model using epoch=20, batch = 10."
      ],
      "execution_count": null,
      "outputs": []
    },
    {
      "cell_type": "code",
      "metadata": {
        "id": "oALCvb_SxD4_",
        "colab": {
          "base_uri": "https://localhost:8080/"
        },
        "outputId": "42a08f39-4268-444d-a833-f9ed7ea498d0"
      },
      "source": [
        "myIris.fit(x_train, one_hot_train_labels, epochs=20, batch_size=10, validation_data=(x_train, one_hot_train_labels))"
      ],
      "execution_count": null,
      "outputs": [
        {
          "output_type": "stream",
          "text": [
            "Epoch 1/20\n",
            "12/12 [==============================] - 1s 24ms/step - loss: 1.0514 - accuracy: 0.4077 - val_loss: 0.7372 - val_accuracy: 0.8167\n",
            "Epoch 2/20\n",
            "12/12 [==============================] - 0s 7ms/step - loss: 0.7176 - accuracy: 0.8072 - val_loss: 0.5967 - val_accuracy: 0.8167\n",
            "Epoch 3/20\n",
            "12/12 [==============================] - 0s 7ms/step - loss: 0.5814 - accuracy: 0.8053 - val_loss: 0.5123 - val_accuracy: 0.8167\n",
            "Epoch 4/20\n",
            "12/12 [==============================] - 0s 8ms/step - loss: 0.5054 - accuracy: 0.8040 - val_loss: 0.4718 - val_accuracy: 0.8167\n",
            "Epoch 5/20\n",
            "12/12 [==============================] - 0s 8ms/step - loss: 0.4857 - accuracy: 0.8357 - val_loss: 0.4240 - val_accuracy: 0.8167\n",
            "Epoch 6/20\n",
            "12/12 [==============================] - 0s 8ms/step - loss: 0.4314 - accuracy: 0.8201 - val_loss: 0.4232 - val_accuracy: 0.8167\n",
            "Epoch 7/20\n",
            "12/12 [==============================] - 0s 7ms/step - loss: 0.3990 - accuracy: 0.8159 - val_loss: 0.4066 - val_accuracy: 0.8167\n",
            "Epoch 8/20\n",
            "12/12 [==============================] - 0s 7ms/step - loss: 0.4533 - accuracy: 0.7773 - val_loss: 0.3702 - val_accuracy: 0.8167\n",
            "Epoch 9/20\n",
            "12/12 [==============================] - 0s 7ms/step - loss: 0.4267 - accuracy: 0.7618 - val_loss: 0.3758 - val_accuracy: 0.8167\n",
            "Epoch 10/20\n",
            "12/12 [==============================] - 0s 7ms/step - loss: 0.3648 - accuracy: 0.8118 - val_loss: 0.3533 - val_accuracy: 0.8167\n",
            "Epoch 11/20\n",
            "12/12 [==============================] - 0s 8ms/step - loss: 0.3201 - accuracy: 0.8530 - val_loss: 0.3426 - val_accuracy: 0.8167\n",
            "Epoch 12/20\n",
            "12/12 [==============================] - 0s 7ms/step - loss: 0.3439 - accuracy: 0.8479 - val_loss: 0.3681 - val_accuracy: 0.8417\n",
            "Epoch 13/20\n",
            "12/12 [==============================] - 0s 7ms/step - loss: 0.3591 - accuracy: 0.8053 - val_loss: 0.3343 - val_accuracy: 0.8167\n",
            "Epoch 14/20\n",
            "12/12 [==============================] - 0s 7ms/step - loss: 0.3449 - accuracy: 0.8074 - val_loss: 0.3334 - val_accuracy: 0.8333\n",
            "Epoch 15/20\n",
            "12/12 [==============================] - 0s 7ms/step - loss: 0.3403 - accuracy: 0.8096 - val_loss: 0.3339 - val_accuracy: 0.8167\n",
            "Epoch 16/20\n",
            "12/12 [==============================] - 0s 7ms/step - loss: 0.4029 - accuracy: 0.7744 - val_loss: 0.3110 - val_accuracy: 0.8250\n",
            "Epoch 17/20\n",
            "12/12 [==============================] - 0s 7ms/step - loss: 0.3390 - accuracy: 0.8316 - val_loss: 0.3217 - val_accuracy: 0.8333\n",
            "Epoch 18/20\n",
            "12/12 [==============================] - 0s 7ms/step - loss: 0.2986 - accuracy: 0.8110 - val_loss: 0.3257 - val_accuracy: 0.8417\n",
            "Epoch 19/20\n",
            "12/12 [==============================] - 0s 6ms/step - loss: 0.3655 - accuracy: 0.8527 - val_loss: 0.2993 - val_accuracy: 0.8417\n",
            "Epoch 20/20\n",
            "12/12 [==============================] - 0s 7ms/step - loss: 0.3074 - accuracy: 0.8442 - val_loss: 0.2970 - val_accuracy: 0.8250\n"
          ],
          "name": "stdout"
        },
        {
          "output_type": "execute_result",
          "data": {
            "text/plain": [
              "<tensorflow.python.keras.callbacks.History at 0x7f7893d96f10>"
            ]
          },
          "metadata": {
            "tags": []
          },
          "execution_count": 149
        }
      ]
    },
    {
      "cell_type": "code",
      "metadata": {
        "id": "iJJ4tXQxxEWc"
      },
      "source": [
        "#08-a Please calculate the result, evaluating your x_test, one_hot_test_label, and see how accurate your model works."
      ],
      "execution_count": null,
      "outputs": []
    },
    {
      "cell_type": "code",
      "metadata": {
        "id": "GfnYWxMcxY5F",
        "colab": {
          "base_uri": "https://localhost:8080/"
        },
        "outputId": "524d8f63-897a-4d3e-88a1-4b420978d48c"
      },
      "source": [
        "result = myIris.evaluate(x_test, one_hot_test_labels)"
      ],
      "execution_count": null,
      "outputs": [
        {
          "output_type": "stream",
          "text": [
            "1/1 [==============================] - 0s 163ms/step - loss: 0.3183 - accuracy: 0.9000\n"
          ],
          "name": "stdout"
        }
      ]
    },
    {
      "cell_type": "code",
      "metadata": {
        "id": "mf9Sc3XCxbFV"
      },
      "source": [
        "#09-a Now, we repeate all we have done in #06-a with the following parameters:\r\n",
        "#     In the first and second layers, use 10 hidden units (neurons) and a 'relu' activation function.\r\n",
        "#     For the last layer, we need to use 3. "
      ],
      "execution_count": null,
      "outputs": []
    },
    {
      "cell_type": "code",
      "metadata": {
        "id": "7a9aqyMwx0SF"
      },
      "source": [
        "myIris = models.Sequential()"
      ],
      "execution_count": null,
      "outputs": []
    },
    {
      "cell_type": "code",
      "metadata": {
        "id": "sldyeWDMRiaw"
      },
      "source": [
        "myIris.add(layers.Dense(10, activation='relu'))"
      ],
      "execution_count": null,
      "outputs": []
    },
    {
      "cell_type": "code",
      "metadata": {
        "id": "_U8j-mdERtN4"
      },
      "source": [
        "myIris.add(layers.Dense(10, activation='relu'))"
      ],
      "execution_count": null,
      "outputs": []
    },
    {
      "cell_type": "code",
      "metadata": {
        "id": "jbpwn9QlRtV7"
      },
      "source": [
        "myIris.add(layers.Dense(3, activation='softmax'))"
      ],
      "execution_count": null,
      "outputs": []
    },
    {
      "cell_type": "code",
      "metadata": {
        "id": "XlXCDQ7gx8FM"
      },
      "source": [
        "#09-b Use the same setting as you have done for #06-b (compile phase using 'rmsprom' and et cetera)"
      ],
      "execution_count": null,
      "outputs": []
    },
    {
      "cell_type": "code",
      "metadata": {
        "id": "HHiCnVpIyFs9"
      },
      "source": [
        "myIris.compile(optimizer='rmsprop', loss='categorical_crossentropy', metrics=['accuracy'])"
      ],
      "execution_count": null,
      "outputs": []
    },
    {
      "cell_type": "code",
      "metadata": {
        "id": "60JPnxqvyQb0"
      },
      "source": [
        "#09-c Please fit your model using epoch=4, batch = 10."
      ],
      "execution_count": null,
      "outputs": []
    },
    {
      "cell_type": "code",
      "metadata": {
        "id": "y-RKym7uyaG0",
        "colab": {
          "base_uri": "https://localhost:8080/"
        },
        "outputId": "4a3a1ee2-d1a6-4a6c-99ca-418fbaa3fb45"
      },
      "source": [
        "myIris.fit(x_train, one_hot_train_labels, epochs=4, batch_size=10, validation_data=(x_train, one_hot_train_labels))"
      ],
      "execution_count": null,
      "outputs": [
        {
          "output_type": "stream",
          "text": [
            "Epoch 1/4\n",
            "12/12 [==============================] - 1s 26ms/step - loss: 1.1534 - accuracy: 0.5084 - val_loss: 1.0939 - val_accuracy: 0.5167\n",
            "Epoch 2/4\n",
            "12/12 [==============================] - 0s 7ms/step - loss: 1.0905 - accuracy: 0.5007 - val_loss: 1.0628 - val_accuracy: 0.5083\n",
            "Epoch 3/4\n",
            "12/12 [==============================] - 0s 8ms/step - loss: 1.0558 - accuracy: 0.5156 - val_loss: 1.0405 - val_accuracy: 0.5083\n",
            "Epoch 4/4\n",
            "12/12 [==============================] - 0s 8ms/step - loss: 1.0416 - accuracy: 0.5080 - val_loss: 1.0219 - val_accuracy: 0.5083\n"
          ],
          "name": "stdout"
        },
        {
          "output_type": "execute_result",
          "data": {
            "text/plain": [
              "<tensorflow.python.keras.callbacks.History at 0x7f78a2dcc990>"
            ]
          },
          "metadata": {
            "tags": []
          },
          "execution_count": 160
        }
      ]
    },
    {
      "cell_type": "code",
      "metadata": {
        "id": "InudSE3fychb"
      },
      "source": [
        "#09-d Please calculate the result, evaluating your x_test, one_hot_test_label, and see how accurate your model works."
      ],
      "execution_count": null,
      "outputs": []
    },
    {
      "cell_type": "code",
      "metadata": {
        "id": "23Lr2veHyxUU",
        "colab": {
          "base_uri": "https://localhost:8080/"
        },
        "outputId": "da3146f9-e23f-4ab1-c2c4-593d5387bb13"
      },
      "source": [
        "result = myIris.evaluate(x_test, one_hot_test_labels)"
      ],
      "execution_count": null,
      "outputs": [
        {
          "output_type": "stream",
          "text": [
            "1/1 [==============================] - 0s 151ms/step - loss: 1.0574 - accuracy: 0.3333\n"
          ],
          "name": "stdout"
        }
      ]
    },
    {
      "cell_type": "code",
      "metadata": {
        "id": "ov5UKqtuyzvb"
      },
      "source": [
        "#10-a Please explain all you have learned from this assignment. \r\n",
        "# Theese are some quiestions that you could answer:\r\n",
        "# How the number of layers or hidden units could impact the accuracy of our model.\r\n",
        "# Do we always suffer from overfitting?\r\n",
        "# How can we find and manage overfitting?"
      ],
      "execution_count": null,
      "outputs": []
    },
    {
      "cell_type": "markdown",
      "metadata": {
        "id": "iW9TViBD41y2"
      },
      "source": [
        "Double-click here to start typing your answer:\n",
        "\n",
        "The number of layers impact the accuracy of the model greatly. This is because if there are few neurons in these hidden layers, underfitting ends up happening but if there are too many neurons in the model then overfitting may arise. Also, there is a general ruling in how many layers to use in models. 1 layer would generally be needed in approximating a function containing a continous mapping from one finite space to another and 2 layers would represent an arbitrary decision boundary to arbitrary accuracy\n",
        "with rational activation functions and can approximate any smooth\n",
        "mapping to any accuracy.\n",
        "\n",
        "(Source: https://stats.stackexchange.com/questions/181/how-to-choose-the-number-of-hidden-layers-and-nodes-in-a-feedforward-neural-netw)\n",
        "\n",
        "We can generally find overfitting when we put new data in the model and checking if the model fits the new data and if it fits the data used to estimate the model. We can avoid and manage overfitting by getting a random sample that is large enough to handle all terms expected to be included in the model\n",
        "\n",
        "(Source: https://statisticsbyjim.com/regression/overfitting-regression-models/)\n",
        "- "
      ]
    },
    {
      "cell_type": "code",
      "metadata": {
        "id": "wjl8cvkazc_p"
      },
      "source": [
        "#10-b\r\n",
        "# Please try different sessing as we did in #09\r\n",
        "# You can change the number of layers, hidden units, compile parameters, number of epochs, batch_size... everything!\r\n",
        "# Please change one parameter at a time.\r\n",
        "# And share your experience."
      ],
      "execution_count": null,
      "outputs": []
    },
    {
      "cell_type": "code",
      "metadata": {
        "id": "RGHpVvn-uCQ8"
      },
      "source": [
        "myIris = models.Sequential()"
      ],
      "execution_count": null,
      "outputs": []
    },
    {
      "cell_type": "code",
      "metadata": {
        "id": "CqINR1veuFS2"
      },
      "source": [
        "myIris.add(layers.Dense(10, activation='relu'))"
      ],
      "execution_count": null,
      "outputs": []
    },
    {
      "cell_type": "code",
      "metadata": {
        "id": "NcO7DhgSuuFe"
      },
      "source": [
        "myIris.add(layers.Dense(10, activation='relu'))"
      ],
      "execution_count": null,
      "outputs": []
    },
    {
      "cell_type": "code",
      "metadata": {
        "id": "qI0y7MT9uFYY"
      },
      "source": [
        "myIris.add(layers.Dense(3, activation='sigmoid'))"
      ],
      "execution_count": null,
      "outputs": []
    },
    {
      "cell_type": "code",
      "metadata": {
        "id": "JIs9tgwVuFbP"
      },
      "source": [
        "myIris.compile(optimizer='rmsprop', loss='categorical_crossentropy', metrics=['accuracy'])"
      ],
      "execution_count": null,
      "outputs": []
    },
    {
      "cell_type": "code",
      "metadata": {
        "colab": {
          "base_uri": "https://localhost:8080/"
        },
        "id": "P4_L7EqpuFdY",
        "outputId": "007720f4-3514-4813-9776-11418c023724"
      },
      "source": [
        "myIris.fit(x_train, one_hot_train_labels, epochs=4, batch_size=8, validation_data=(x_train, one_hot_train_labels))"
      ],
      "execution_count": null,
      "outputs": [
        {
          "output_type": "stream",
          "text": [
            "Epoch 1/4\n",
            "15/15 [==============================] - 1s 18ms/step - loss: 1.6996 - accuracy: 0.2171 - val_loss: 1.3270 - val_accuracy: 0.3500\n",
            "Epoch 2/4\n",
            "15/15 [==============================] - 0s 6ms/step - loss: 1.3117 - accuracy: 0.3561 - val_loss: 1.1271 - val_accuracy: 0.4083\n",
            "Epoch 3/4\n",
            "15/15 [==============================] - 0s 6ms/step - loss: 1.0833 - accuracy: 0.3888 - val_loss: 1.0075 - val_accuracy: 0.3583\n",
            "Epoch 4/4\n",
            "15/15 [==============================] - 0s 6ms/step - loss: 0.9601 - accuracy: 0.3684 - val_loss: 0.9230 - val_accuracy: 0.5750\n"
          ],
          "name": "stdout"
        },
        {
          "output_type": "execute_result",
          "data": {
            "text/plain": [
              "<tensorflow.python.keras.callbacks.History at 0x7f7890b1e8d0>"
            ]
          },
          "metadata": {
            "tags": []
          },
          "execution_count": 170
        }
      ]
    },
    {
      "cell_type": "code",
      "metadata": {
        "colab": {
          "base_uri": "https://localhost:8080/"
        },
        "id": "e8SmOepFuFft",
        "outputId": "fb22d873-8f2f-4bae-af5b-8f8bbaaf963d"
      },
      "source": [
        "result = myIris.evaluate(x_test, one_hot_test_labels)"
      ],
      "execution_count": null,
      "outputs": [
        {
          "output_type": "stream",
          "text": [
            "1/1 [==============================] - 0s 182ms/step - loss: 0.8489 - accuracy: 0.7000\n"
          ],
          "name": "stdout"
        }
      ]
    },
    {
      "cell_type": "markdown",
      "metadata": {
        "id": "W-Hsqpp_420S"
      },
      "source": [
        "Double-click here to start typing your answer:\n",
        "\n",
        "My Experince changing the results ended up making the program less accurate than before. After changing the last layer's activation to sigmoid and running all the lines again, the accuracy went way down compared to what we used initially which was softmax. After evaluating the model, the accuracy was at its lowest at 27 percent compared to 80 percent when we used softmax. It shows how accurate softmax is as a activation layer compared to the rest."
      ]
    },
    {
      "cell_type": "markdown",
      "metadata": {
        "id": "KmtO28C51lXS"
      },
      "source": [
        "## Deliverable:\r\n",
        "Part A:\r\n",
        "\r\n",
        "Submitting the current colab file.\r\n",
        "\r\n",
        "Part B:\r\n",
        "\r\n",
        "Please record and upload a video to YouTube, describing all you have done in 5 to 10 video recorded clip. If you go beyond 10 minutes, it is fine, and the mentioned time range is to show how the scale of the assignment could be. Then submit a notepad text document that contains the link to the uploaded YouTube video.\r\n",
        "\r\n"
      ]
    },
    {
      "cell_type": "markdown",
      "metadata": {
        "id": "WnMoqa-D-kTe"
      },
      "source": [
        "\r\n",
        "**Summary:**\r\n",
        "\r\n",
        "In short, what we need to submit are:\r\n",
        "\r\n",
        "a) The current ipynb file that contains all the cod (5 marks)\r\n",
        "\r\n",
        "b) A text file that contains the YouTube link of your recorded video.\r\n",
        "\r\n",
        "Wish you only the best, Dear Team Members!\r\n",
        "\r\n",
        "Reza"
      ]
    },
    {
      "cell_type": "code",
      "metadata": {
        "id": "0oT_gJx4-s_6"
      },
      "source": [
        ""
      ],
      "execution_count": null,
      "outputs": []
    }
  ]
}